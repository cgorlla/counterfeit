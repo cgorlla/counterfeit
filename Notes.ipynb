{
 "cells": [
  {
   "cell_type": "markdown",
   "id": "atlantic-lucas",
   "metadata": {},
   "source": [
    "# Detecting Counterfeit Bills with Machine Learning\n",
    "## Cyril Gorlla\n",
    "### University of California, San Diego"
   ]
  },
  {
   "cell_type": "markdown",
   "id": "broad-settlement",
   "metadata": {},
   "source": [
    "## Introduction\n",
    "\n",
    "We will examine the Swiss bank notes dataset. The dataset contains six variables measured on 100 genuine and 100 counterfeit\n",
    "old Swiss 1000-franc bank notes:\n",
    "\n",
    "1. Length of the note\n",
    "2. Width of the Left-Hand side of the note\n",
    "3. Width of the Right-Hand side of the note\n",
    "4. Width of the Bottom Margin\n",
    "5. Width of the Top Margin\n",
    "6. Diagonal Length of Printed Area\n",
    "\n",
    "We wish to utilize supervised machine learning to see if it is possible to predict whether or not a particular note is genuine or counterfeit. We will divide the data into training and validation sets and implement $K$-fold cross validation. We will then evaluate the performance of various classifiers before and after dimensionality reduction.\n",
    "\n",
    "*Certain statistical code courtesy Tucker McElroy.*"
   ]
  },
  {
   "cell_type": "markdown",
   "id": "printable-storm",
   "metadata": {},
   "source": [
    "<img src=\"https://upload.wikimedia.org/wikipedia/commons/f/f4/CHF_Banknotes.jpg\">\n",
    "<a href=\"https://commons.wikimedia.org/wiki/File:CHF_Banknotes.jpg\">MadGeographer</a>, Public domain, via Wikimedia Commons"
   ]
  },
  {
   "cell_type": "code",
   "execution_count": null,
   "id": "beautiful-raleigh",
   "metadata": {
    "scrolled": false
   },
   "outputs": [],
   "source": [
    "library(Hmisc)\n",
    "library(caret)\n",
    "library(lattice)\n",
    "library(ellipse)\n",
    "library(scatterplot3d)\n",
    "library(pracma)"
   ]
  },
  {
   "cell_type": "code",
   "execution_count": 80,
   "id": "academic-essex",
   "metadata": {},
   "outputs": [],
   "source": [
    "set.seed(123) #Set seed to ensure same splitting"
   ]
  },
  {
   "cell_type": "code",
   "execution_count": 2,
   "id": "mobile-cooperative",
   "metadata": {
    "scrolled": true
   },
   "outputs": [
    {
     "data": {
      "text/html": [
       "<table>\n",
       "<thead><tr><th></th><th scope=col>Length</th><th scope=col>Left</th><th scope=col>Right</th><th scope=col>Bottom</th><th scope=col>Top</th><th scope=col>Diagonal</th></tr></thead>\n",
       "<tbody>\n",
       "\t<tr><th scope=row>BN1</th><td>214.8</td><td>131.0</td><td>131.1</td><td> 9.0 </td><td> 9.7 </td><td>141.0</td></tr>\n",
       "\t<tr><th scope=row>BN2</th><td>214.6</td><td>129.7</td><td>129.7</td><td> 8.1 </td><td> 9.5 </td><td>141.7</td></tr>\n",
       "\t<tr><th scope=row>BN3</th><td>214.8</td><td>129.7</td><td>129.7</td><td> 8.7 </td><td> 9.6 </td><td>142.2</td></tr>\n",
       "\t<tr><th scope=row>BN4</th><td>214.8</td><td>129.7</td><td>129.6</td><td> 7.5 </td><td>10.4 </td><td>142.0</td></tr>\n",
       "\t<tr><th scope=row>BN5</th><td>215.0</td><td>129.6</td><td>129.7</td><td>10.4 </td><td> 7.7 </td><td>141.8</td></tr>\n",
       "\t<tr><th scope=row>BN6</th><td>215.7</td><td>130.8</td><td>130.5</td><td> 9.0 </td><td>10.1 </td><td>141.4</td></tr>\n",
       "</tbody>\n",
       "</table>\n"
      ],
      "text/latex": [
       "\\begin{tabular}{r|llllll}\n",
       "  & Length & Left & Right & Bottom & Top & Diagonal\\\\\n",
       "\\hline\n",
       "\tBN1 & 214.8 & 131.0 & 131.1 &  9.0  &  9.7  & 141.0\\\\\n",
       "\tBN2 & 214.6 & 129.7 & 129.7 &  8.1  &  9.5  & 141.7\\\\\n",
       "\tBN3 & 214.8 & 129.7 & 129.7 &  8.7  &  9.6  & 142.2\\\\\n",
       "\tBN4 & 214.8 & 129.7 & 129.6 &  7.5  & 10.4  & 142.0\\\\\n",
       "\tBN5 & 215.0 & 129.6 & 129.7 & 10.4  &  7.7  & 141.8\\\\\n",
       "\tBN6 & 215.7 & 130.8 & 130.5 &  9.0  & 10.1  & 141.4\\\\\n",
       "\\end{tabular}\n"
      ],
      "text/markdown": [
       "\n",
       "| <!--/--> | Length | Left | Right | Bottom | Top | Diagonal |\n",
       "|---|---|---|---|---|---|---|\n",
       "| BN1 | 214.8 | 131.0 | 131.1 |  9.0  |  9.7  | 141.0 |\n",
       "| BN2 | 214.6 | 129.7 | 129.7 |  8.1  |  9.5  | 141.7 |\n",
       "| BN3 | 214.8 | 129.7 | 129.7 |  8.7  |  9.6  | 142.2 |\n",
       "| BN4 | 214.8 | 129.7 | 129.6 |  7.5  | 10.4  | 142.0 |\n",
       "| BN5 | 215.0 | 129.6 | 129.7 | 10.4  |  7.7  | 141.8 |\n",
       "| BN6 | 215.7 | 130.8 | 130.5 |  9.0  | 10.1  | 141.4 |\n",
       "\n"
      ],
      "text/plain": [
       "    Length Left  Right Bottom Top  Diagonal\n",
       "BN1 214.8  131.0 131.1  9.0    9.7 141.0   \n",
       "BN2 214.6  129.7 129.7  8.1    9.5 141.7   \n",
       "BN3 214.8  129.7 129.7  8.7    9.6 142.2   \n",
       "BN4 214.8  129.7 129.6  7.5   10.4 142.0   \n",
       "BN5 215.0  129.6 129.7 10.4    7.7 141.8   \n",
       "BN6 215.7  130.8 130.5  9.0   10.1 141.4   "
      ]
     },
     "metadata": {},
     "output_type": "display_data"
    }
   ],
   "source": [
    "notes = read.table('SBN.txt')\n",
    "head(notes)"
   ]
  },
  {
   "cell_type": "markdown",
   "id": "biological-singing",
   "metadata": {},
   "source": [
    "*Source*: [GitHub](https://github.com/tuckermcelroy/ma189/blob/main/Data/SBN.txt)\n",
    "\n",
    "Flury, B. and Riedwyl, H. (1988). *Multivariate Statistics: A practical approach*. London: Chapman & Hall, Tables 1.1 and 1.2, pp. 5-8.\n",
    "\n",
    "BN1-100 are genuine, while 101-200 are counterfeit. Let's explore these two groups together and separately."
   ]
  },
  {
   "cell_type": "code",
   "execution_count": 3,
   "id": "blessed-google",
   "metadata": {},
   "outputs": [
    {
     "data": {
      "text/html": [
       "<dl class=dl-horizontal>\n",
       "\t<dt>Length</dt>\n",
       "\t\t<dd>214.896</dd>\n",
       "\t<dt>Left</dt>\n",
       "\t\t<dd>130.1215</dd>\n",
       "\t<dt>Right</dt>\n",
       "\t\t<dd>129.9565</dd>\n",
       "\t<dt>Bottom</dt>\n",
       "\t\t<dd>9.4175</dd>\n",
       "\t<dt>Top</dt>\n",
       "\t\t<dd>10.6505</dd>\n",
       "\t<dt>Diagonal</dt>\n",
       "\t\t<dd>140.4835</dd>\n",
       "</dl>\n"
      ],
      "text/latex": [
       "\\begin{description*}\n",
       "\\item[Length] 214.896\n",
       "\\item[Left] 130.1215\n",
       "\\item[Right] 129.9565\n",
       "\\item[Bottom] 9.4175\n",
       "\\item[Top] 10.6505\n",
       "\\item[Diagonal] 140.4835\n",
       "\\end{description*}\n"
      ],
      "text/markdown": [
       "Length\n",
       ":   214.896Left\n",
       ":   130.1215Right\n",
       ":   129.9565Bottom\n",
       ":   9.4175Top\n",
       ":   10.6505Diagonal\n",
       ":   140.4835\n",
       "\n"
      ],
      "text/plain": [
       "  Length     Left    Right   Bottom      Top Diagonal \n",
       "214.8960 130.1215 129.9565   9.4175  10.6505 140.4835 "
      ]
     },
     "metadata": {},
     "output_type": "display_data"
    }
   ],
   "source": [
    "colMeans(notes)"
   ]
  },
  {
   "cell_type": "code",
   "execution_count": 4,
   "id": "framed-financing",
   "metadata": {},
   "outputs": [
    {
     "data": {
      "text/html": [
       "<dl class=dl-horizontal>\n",
       "\t<dt>Length</dt>\n",
       "\t\t<dd>214.969</dd>\n",
       "\t<dt>Left</dt>\n",
       "\t\t<dd>129.943</dd>\n",
       "\t<dt>Right</dt>\n",
       "\t\t<dd>129.72</dd>\n",
       "\t<dt>Bottom</dt>\n",
       "\t\t<dd>8.305</dd>\n",
       "\t<dt>Top</dt>\n",
       "\t\t<dd>10.168</dd>\n",
       "\t<dt>Diagonal</dt>\n",
       "\t\t<dd>141.517</dd>\n",
       "</dl>\n"
      ],
      "text/latex": [
       "\\begin{description*}\n",
       "\\item[Length] 214.969\n",
       "\\item[Left] 129.943\n",
       "\\item[Right] 129.72\n",
       "\\item[Bottom] 8.305\n",
       "\\item[Top] 10.168\n",
       "\\item[Diagonal] 141.517\n",
       "\\end{description*}\n"
      ],
      "text/markdown": [
       "Length\n",
       ":   214.969Left\n",
       ":   129.943Right\n",
       ":   129.72Bottom\n",
       ":   8.305Top\n",
       ":   10.168Diagonal\n",
       ":   141.517\n",
       "\n"
      ],
      "text/plain": [
       "  Length     Left    Right   Bottom      Top Diagonal \n",
       " 214.969  129.943  129.720    8.305   10.168  141.517 "
      ]
     },
     "metadata": {},
     "output_type": "display_data"
    }
   ],
   "source": [
    "genuine = notes[1:100,]\n",
    "colMeans(genuine)"
   ]
  },
  {
   "cell_type": "code",
   "execution_count": 5,
   "id": "parental-crest",
   "metadata": {},
   "outputs": [
    {
     "data": {
      "text/html": [
       "<dl class=dl-horizontal>\n",
       "\t<dt>Length</dt>\n",
       "\t\t<dd>214.823</dd>\n",
       "\t<dt>Left</dt>\n",
       "\t\t<dd>130.3</dd>\n",
       "\t<dt>Right</dt>\n",
       "\t\t<dd>130.193</dd>\n",
       "\t<dt>Bottom</dt>\n",
       "\t\t<dd>10.53</dd>\n",
       "\t<dt>Top</dt>\n",
       "\t\t<dd>11.133</dd>\n",
       "\t<dt>Diagonal</dt>\n",
       "\t\t<dd>139.45</dd>\n",
       "</dl>\n"
      ],
      "text/latex": [
       "\\begin{description*}\n",
       "\\item[Length] 214.823\n",
       "\\item[Left] 130.3\n",
       "\\item[Right] 130.193\n",
       "\\item[Bottom] 10.53\n",
       "\\item[Top] 11.133\n",
       "\\item[Diagonal] 139.45\n",
       "\\end{description*}\n"
      ],
      "text/markdown": [
       "Length\n",
       ":   214.823Left\n",
       ":   130.3Right\n",
       ":   130.193Bottom\n",
       ":   10.53Top\n",
       ":   11.133Diagonal\n",
       ":   139.45\n",
       "\n"
      ],
      "text/plain": [
       "  Length     Left    Right   Bottom      Top Diagonal \n",
       " 214.823  130.300  130.193   10.530   11.133  139.450 "
      ]
     },
     "metadata": {},
     "output_type": "display_data"
    }
   ],
   "source": [
    "counterfeit =  notes[101:200,]\n",
    "colMeans(counterfeit)"
   ]
  },
  {
   "cell_type": "code",
   "execution_count": 6,
   "id": "conservative-seven",
   "metadata": {
    "scrolled": true
   },
   "outputs": [
    {
     "data": {
      "image/png": "[encoded data removed]",
      "text/plain": [
       "Plot with title \"\""
      ]
     },
     "metadata": {},
     "output_type": "display_data"
    },
    {
     "data": {
      "image/png": "[encoded data removed]",
      "text/plain": [
       "Plot with title \"\""
      ]
     },
     "metadata": {},
     "output_type": "display_data"
    },
    {
     "data": {
      "image/png": "[encoded data removed]",
      "text/plain": [
       "Plot with title \"\""
      ]
     },
     "metadata": {},
     "output_type": "display_data"
    }
   ],
   "source": [
    "par(mfrow=c(3,3))\n",
    "hist.data.frame(notes, mtitl = 'Overall Distributions')\n",
    "hist.data.frame(genuine, mtitl= 'Genuine Notes')\n",
    "hist.data.frame(counterfeit,mtitl = 'Counterfeit Notes')"
   ]
  },
  {
   "cell_type": "markdown",
   "id": "classical-aside",
   "metadata": {},
   "source": [
    "In the entire dataset, the first three distributions look fairly normal in the  while the last three seem right-skewed, left-skewed, and bimodal. We can see that some measurements, like Bottom and Top, vary signficantly between the two groups. Within the groups, the distributions all generally seem normal or somewhat skewed."
   ]
  },
  {
   "cell_type": "code",
   "execution_count": 7,
   "id": "revolutionary-bronze",
   "metadata": {},
   "outputs": [
    {
     "data": {
      "image/png": "[encoded data removed]",
      "text/plain": [
       "plot without title"
      ]
     },
     "metadata": {},
     "output_type": "display_data"
    },
    {
     "data": {
      "image/png": "[encoded data removed]",
      "text/plain": [
       "plot without title"
      ]
     },
     "metadata": {},
     "output_type": "display_data"
    },
    {
     "data": {
      "image/png": "[encoded data removed]",
      "text/plain": [
       "plot without title"
      ]
     },
     "metadata": {},
     "output_type": "display_data"
    }
   ],
   "source": [
    "par(mfrow=c(1,3))\n",
    "pairs(notes)\n",
    "pairs(genuine)\n",
    "pairs(counterfeit)"
   ]
  },
  {
   "cell_type": "code",
   "execution_count": 27,
   "id": "material-sacrifice",
   "metadata": {},
   "outputs": [],
   "source": [
    "genuine['genuine'] = 'genuine'"
   ]
  },
  {
   "cell_type": "code",
   "execution_count": 28,
   "id": "legislative-feelings",
   "metadata": {},
   "outputs": [],
   "source": [
    "counterfeit['genuine'] = 'counterfeit'"
   ]
  },
  {
   "cell_type": "code",
   "execution_count": 29,
   "id": "extreme-element",
   "metadata": {},
   "outputs": [
    {
     "data": {
      "text/html": [
       "<table>\n",
       "<thead><tr><th></th><th scope=col>Length</th><th scope=col>Left</th><th scope=col>Right</th><th scope=col>Bottom</th><th scope=col>Top</th><th scope=col>Diagonal</th><th scope=col>genuine</th></tr></thead>\n",
       "<tbody>\n",
       "\t<tr><th scope=row>BN1</th><td>214.8  </td><td>131.0  </td><td>131.1  </td><td> 9.0   </td><td> 9.7   </td><td>141.0  </td><td>genuine</td></tr>\n",
       "\t<tr><th scope=row>BN2</th><td>214.6  </td><td>129.7  </td><td>129.7  </td><td> 8.1   </td><td> 9.5   </td><td>141.7  </td><td>genuine</td></tr>\n",
       "\t<tr><th scope=row>BN3</th><td>214.8  </td><td>129.7  </td><td>129.7  </td><td> 8.7   </td><td> 9.6   </td><td>142.2  </td><td>genuine</td></tr>\n",
       "\t<tr><th scope=row>BN4</th><td>214.8  </td><td>129.7  </td><td>129.6  </td><td> 7.5   </td><td>10.4   </td><td>142.0  </td><td>genuine</td></tr>\n",
       "\t<tr><th scope=row>BN5</th><td>215.0  </td><td>129.6  </td><td>129.7  </td><td>10.4   </td><td> 7.7   </td><td>141.8  </td><td>genuine</td></tr>\n",
       "\t<tr><th scope=row>BN6</th><td>215.7  </td><td>130.8  </td><td>130.5  </td><td> 9.0   </td><td>10.1   </td><td>141.4  </td><td>genuine</td></tr>\n",
       "</tbody>\n",
       "</table>\n"
      ],
      "text/latex": [
       "\\begin{tabular}{r|lllllll}\n",
       "  & Length & Left & Right & Bottom & Top & Diagonal & genuine\\\\\n",
       "\\hline\n",
       "\tBN1 & 214.8   & 131.0   & 131.1   &  9.0    &  9.7    & 141.0   & genuine\\\\\n",
       "\tBN2 & 214.6   & 129.7   & 129.7   &  8.1    &  9.5    & 141.7   & genuine\\\\\n",
       "\tBN3 & 214.8   & 129.7   & 129.7   &  8.7    &  9.6    & 142.2   & genuine\\\\\n",
       "\tBN4 & 214.8   & 129.7   & 129.6   &  7.5    & 10.4    & 142.0   & genuine\\\\\n",
       "\tBN5 & 215.0   & 129.6   & 129.7   & 10.4    &  7.7    & 141.8   & genuine\\\\\n",
       "\tBN6 & 215.7   & 130.8   & 130.5   &  9.0    & 10.1    & 141.4   & genuine\\\\\n",
       "\\end{tabular}\n"
      ],
      "text/markdown": [
       "\n",
       "| <!--/--> | Length | Left | Right | Bottom | Top | Diagonal | genuine |\n",
       "|---|---|---|---|---|---|---|---|\n",
       "| BN1 | 214.8   | 131.0   | 131.1   |  9.0    |  9.7    | 141.0   | genuine |\n",
       "| BN2 | 214.6   | 129.7   | 129.7   |  8.1    |  9.5    | 141.7   | genuine |\n",
       "| BN3 | 214.8   | 129.7   | 129.7   |  8.7    |  9.6    | 142.2   | genuine |\n",
       "| BN4 | 214.8   | 129.7   | 129.6   |  7.5    | 10.4    | 142.0   | genuine |\n",
       "| BN5 | 215.0   | 129.6   | 129.7   | 10.4    |  7.7    | 141.8   | genuine |\n",
       "| BN6 | 215.7   | 130.8   | 130.5   |  9.0    | 10.1    | 141.4   | genuine |\n",
       "\n"
      ],
      "text/plain": [
       "    Length Left  Right Bottom Top  Diagonal genuine\n",
       "BN1 214.8  131.0 131.1  9.0    9.7 141.0    genuine\n",
       "BN2 214.6  129.7 129.7  8.1    9.5 141.7    genuine\n",
       "BN3 214.8  129.7 129.7  8.7    9.6 142.2    genuine\n",
       "BN4 214.8  129.7 129.6  7.5   10.4 142.0    genuine\n",
       "BN5 215.0  129.6 129.7 10.4    7.7 141.8    genuine\n",
       "BN6 215.7  130.8 130.5  9.0   10.1 141.4    genuine"
      ]
     },
     "metadata": {},
     "output_type": "display_data"
    }
   ],
   "source": [
    "labeled = rbind(genuine,counterfeit)\n",
    "head(labeled)"
   ]
  },
  {
   "cell_type": "markdown",
   "id": "absent-forty",
   "metadata": {},
   "source": [
    "We will use $k=10$ for $k$-fold CV. Note that we set the seed to `123`, this is so the CV splits will be the same across models."
   ]
  },
  {
   "cell_type": "markdown",
   "id": "innovative-routine",
   "metadata": {},
   "source": [
    "### Linear Discriminant Analysis"
   ]
  },
  {
   "cell_type": "markdown",
   "id": "special-browser",
   "metadata": {},
   "source": [
    "We have two groups in the training data, $k = genuine (g), counterfeit(c)$.\n",
    "\n",
    "We classify an observation $x$ as genuine:\n",
    "\n",
    "$d^L_g (\\underline{x}) - d^L_c (\\underline{x}) > 0$\n",
    "\n",
    "and can write this as a linear function:\n",
    "\n",
    "$d^L_g (\\underline{x}) - d^L_c (\\underline{x}) = - \\frac{1}{2} \\underline{\\mu}_g^{\\prime} {\\mathbf \\Sigma}^{-1} \\underline{\\mu}_g + \\frac{1}{2} \\underline{\\mu}_c^{\\prime} {\\mathbf \\Sigma}^{-1} \\underline{\\mu}_c + \\log (p_g /p_c) + {( \\underline{\\mu}_g - \\underline{\\mu}_c )}^{\\prime} {\\mathbf \\Sigma}^{-1} \\underline{x}.$\n",
    "\n",
    "Let $c = \\frac{1}{2} \\left( \\underline{\\mu}_g^{\\prime} {\\mathbf \\Sigma}^{-1} \\underline{\\mu}_g - \\underline{\\mu}_c^{\\prime} {\\mathbf \\Sigma}^{-1} \\underline{\\mu}_c \\right) - \\log (p_g /p_c)$ and $\\underline{\\omega} = {\\mathbf \\Sigma}^{-1} {( \\underline{\\mu}_g - \\underline{\\mu}_c )}$.\n",
    "\n",
    "Then $\\underline{\\omega}^{\\prime} \\underline{x} > c.$\n",
    "\n",
    "So, we classify as genuine if $\\underline{\\omega}^{\\prime} \\underline{x} > c$ and counterfeit if $\\underline{\\omega}^{\\prime} \\underline{x} < c$. Namely, $\\underline{\\omega} = {\\mathbf \\Sigma}^{-1} {( \\underline{\\mu}_g - \\underline{\\mu}_c )}$  makes the two groups most separable."
   ]
  },
  {
   "cell_type": "code",
   "execution_count": 251,
   "id": "norman-insured",
   "metadata": {},
   "outputs": [],
   "source": [
    "train.control = trainControl(method = \"cv\", number = 10)"
   ]
  },
  {
   "cell_type": "code",
   "execution_count": 82,
   "id": "spread-parcel",
   "metadata": {},
   "outputs": [],
   "source": [
    "lda <- train(notes, as.factor(labeled$'genuine'), method = \"lda\",\n",
    "               trControl = train.control)"
   ]
  },
  {
   "cell_type": "code",
   "execution_count": 83,
   "id": "moderate-cookie",
   "metadata": {
    "scrolled": true
   },
   "outputs": [
    {
     "data": {
      "text/html": [
       "<table>\n",
       "<thead><tr><th scope=col>Accuracy</th><th scope=col>Kappa</th><th scope=col>Resample</th></tr></thead>\n",
       "<tbody>\n",
       "\t<tr><td>1.00  </td><td>1.0   </td><td>Fold01</td></tr>\n",
       "\t<tr><td>1.00  </td><td>1.0   </td><td>Fold02</td></tr>\n",
       "\t<tr><td>1.00  </td><td>1.0   </td><td>Fold03</td></tr>\n",
       "\t<tr><td>1.00  </td><td>1.0   </td><td>Fold04</td></tr>\n",
       "\t<tr><td>1.00  </td><td>1.0   </td><td>Fold05</td></tr>\n",
       "\t<tr><td>1.00  </td><td>1.0   </td><td>Fold06</td></tr>\n",
       "\t<tr><td>1.00  </td><td>1.0   </td><td>Fold07</td></tr>\n",
       "\t<tr><td>0.95  </td><td>0.9   </td><td>Fold08</td></tr>\n",
       "\t<tr><td>1.00  </td><td>1.0   </td><td>Fold09</td></tr>\n",
       "\t<tr><td>1.00  </td><td>1.0   </td><td>Fold10</td></tr>\n",
       "</tbody>\n",
       "</table>\n"
      ],
      "text/latex": [
       "\\begin{tabular}{r|lll}\n",
       " Accuracy & Kappa & Resample\\\\\n",
       "\\hline\n",
       "\t 1.00   & 1.0    & Fold01\\\\\n",
       "\t 1.00   & 1.0    & Fold02\\\\\n",
       "\t 1.00   & 1.0    & Fold03\\\\\n",
       "\t 1.00   & 1.0    & Fold04\\\\\n",
       "\t 1.00   & 1.0    & Fold05\\\\\n",
       "\t 1.00   & 1.0    & Fold06\\\\\n",
       "\t 1.00   & 1.0    & Fold07\\\\\n",
       "\t 0.95   & 0.9    & Fold08\\\\\n",
       "\t 1.00   & 1.0    & Fold09\\\\\n",
       "\t 1.00   & 1.0    & Fold10\\\\\n",
       "\\end{tabular}\n"
      ],
      "text/markdown": [
       "\n",
       "| Accuracy | Kappa | Resample |\n",
       "|---|---|---|\n",
       "| 1.00   | 1.0    | Fold01 |\n",
       "| 1.00   | 1.0    | Fold02 |\n",
       "| 1.00   | 1.0    | Fold03 |\n",
       "| 1.00   | 1.0    | Fold04 |\n",
       "| 1.00   | 1.0    | Fold05 |\n",
       "| 1.00   | 1.0    | Fold06 |\n",
       "| 1.00   | 1.0    | Fold07 |\n",
       "| 0.95   | 0.9    | Fold08 |\n",
       "| 1.00   | 1.0    | Fold09 |\n",
       "| 1.00   | 1.0    | Fold10 |\n",
       "\n"
      ],
      "text/plain": [
       "   Accuracy Kappa Resample\n",
       "1  1.00     1.0   Fold01  \n",
       "2  1.00     1.0   Fold02  \n",
       "3  1.00     1.0   Fold03  \n",
       "4  1.00     1.0   Fold04  \n",
       "5  1.00     1.0   Fold05  \n",
       "6  1.00     1.0   Fold06  \n",
       "7  1.00     1.0   Fold07  \n",
       "8  0.95     0.9   Fold08  \n",
       "9  1.00     1.0   Fold09  \n",
       "10 1.00     1.0   Fold10  "
      ]
     },
     "metadata": {},
     "output_type": "display_data"
    }
   ],
   "source": [
    "lda$resample"
   ]
  },
  {
   "cell_type": "markdown",
   "id": "related-greenhouse",
   "metadata": {},
   "source": [
    "Our model is very accurate, with perfect accuracy on all but one fold (8)."
   ]
  },
  {
   "cell_type": "markdown",
   "id": "nearby-excerpt",
   "metadata": {},
   "source": [
    "### Logistic Regression"
   ]
  },
  {
   "cell_type": "markdown",
   "id": "representative-stadium",
   "metadata": {},
   "source": [
    "We wish to predict a binary response using multiple predictors.\n",
    "- We generalize regular logistic regession as follows:\n",
    "$\n",
    " \\log \\left( \\frac{ p( \\underline{X})}{ 1- p (\\underline{X})} \\right)\n",
    " = \\beta_0 + \\beta_1 X_1 + \\ldots + \\beta_p X_p\n",
    "$\n",
    "where is $\\underline{X}$ is a $p$-vector of covariates.\n",
    "- Thus\n",
    "$\n",
    " p( \\underline{X}) = \\frac{ \\exp \\{  \\beta_0 + \\beta_1 X_1 + \\ldots + \\beta_p X_p \\} }{\n",
    "  1 + \\exp \\{  \\beta_0 + \\beta_1 X_1 + \\ldots + \\beta_p X_p \\} }\n",
    "$\n",
    "- Let $\\underline{\\beta} = {[ \\beta_1, \\ldots, \\beta_p ]}^{\\prime}$ be the coefficients; $\\beta_0$ is the intercept.\n",
    "\n",
    "### Logistic Function\n",
    "\n",
    "$\n",
    " \\phi (t) = \\frac{1}{1 + e^{-t}}\n",
    "$\n",
    "- The model for ${(Y,\\underline{X})}$ is\n",
    "$\n",
    " p( \\underline{x}) = {\\mathbb P} [ Y = 1 \\vert \\underline{X} = \\underline{x} ] \n",
    "  = \\phi ( \\beta_0 + \\underline{x}^{\\prime} \\underline{\\beta})\n",
    "$\n",
    "- Or\n",
    "$\n",
    " {\\mathbb P} [ Y = 0 \\vert \\underline{X} = \\underline{x} ] \n",
    "  = 1 - \\phi ( \\beta_0 + \\underline{x}^{\\prime} \\underline{\\beta})\n",
    "$\n",
    " \n",
    "\n",
    "### Likelihood Function\n",
    "\n",
    "- We assume that $(Y_1, \\underline{X}_1),\\ldots,(Y_n,\\underline{X}_n)$ are i.i.d. \n",
    "- Conditional density $Y_i$ given $\\underline{X}_i$ is\n",
    "$\n",
    "  { \\left( \\phi ( \\beta_0 + \\underline{X}_i^{\\prime} \\underline{\\beta} ) \\right)}^{Y_i}\n",
    "  \\,  { \\left( 1 - \\phi ( \\beta_0 + \\underline{X}_i^{\\prime} \n",
    "  \\underline{\\beta} ) \\right)}^{1 - Y_i}\n",
    "$\n",
    "Joint density of $Y_1, \\ldots, Y_n$ given $\\underline{X}_1, \\ldots,\\underline{X}_n$ is\n",
    "$\n",
    " L_n (\\beta_0, \\underline{\\beta} ) = \\prod_{i=1}^n  { \\left( \\phi ( \\beta_0 + \\underline{X}_i^{\\prime} \\underline{\\beta} ) \\right)}^{Y_i}\n",
    "  \\,  { \\left( 1 - \\phi ( \\beta_0 + \\underline{X}_i^{\\prime} \n",
    "  \\underline{\\beta} ) \\right)}^{1 - Y_i}\n",
    "$\n",
    "$L_n: {\\mathbb R}^{p+1} \\rightarrow [0,\\infty)$: *likelihood function*.\n",
    "\n",
    "### Maximum Likelihood Estimator\n",
    "\n",
    "- $(\\widehat{\\beta}_0, \\widehat{\\underline{\\beta}})$\n",
    "defined as the maximizer of the likelihood function:\n",
    "$\n",
    "(\\widehat{\\beta}_0, \\widehat{\\underline{\\beta}}) = \\arg \\max \n",
    "L_n (\\beta_0, \\underline{\\beta} ) \n",
    "$\n",
    "- We utilize the logarithm of the likelihood function for ease of use.\n",
    "$\n",
    " \\mathcal{L}_n (\\beta_0, \\underline{\\beta} ) = \\log L_n (\\beta_0, \\underline{\\beta} )\n",
    " =   \\sum_{i=1}^n \\left\\{ Y_i \\, \\log \\left( \\phi ( \\beta_0 + \\underline{X}_i^{\\prime} \\underline{\\beta} ) \\right) +  (1 - Y_i) \\log \\left( 1 - \\phi ( \\beta_0 + \\underline{X}_i^{\\prime}   \\underline{\\beta} ) \\right) \\right\\}\n",
    "$"
   ]
  },
  {
   "cell_type": "code",
   "execution_count": null,
   "id": "associate-delicious",
   "metadata": {
    "scrolled": true
   },
   "outputs": [],
   "source": [
    "logistic <- train(notes, as.factor(labeled$'genuine'), method = \"glm\",\n",
    "               family=\"binomial\",maxit=100, trControl = train.control)"
   ]
  },
  {
   "cell_type": "code",
   "execution_count": 86,
   "id": "electric-satisfaction",
   "metadata": {
    "scrolled": true
   },
   "outputs": [
    {
     "data": {
      "text/html": [
       "<table>\n",
       "<thead><tr><th scope=col>Accuracy</th><th scope=col>Kappa</th><th scope=col>Resample</th></tr></thead>\n",
       "<tbody>\n",
       "\t<tr><td>1.00  </td><td>1.0   </td><td>Fold01</td></tr>\n",
       "\t<tr><td>0.95  </td><td>0.9   </td><td>Fold02</td></tr>\n",
       "\t<tr><td>1.00  </td><td>1.0   </td><td>Fold03</td></tr>\n",
       "\t<tr><td>1.00  </td><td>1.0   </td><td>Fold04</td></tr>\n",
       "\t<tr><td>1.00  </td><td>1.0   </td><td>Fold05</td></tr>\n",
       "\t<tr><td>0.95  </td><td>0.9   </td><td>Fold06</td></tr>\n",
       "\t<tr><td>1.00  </td><td>1.0   </td><td>Fold07</td></tr>\n",
       "\t<tr><td>1.00  </td><td>1.0   </td><td>Fold08</td></tr>\n",
       "\t<tr><td>0.95  </td><td>0.9   </td><td>Fold09</td></tr>\n",
       "\t<tr><td>1.00  </td><td>1.0   </td><td>Fold10</td></tr>\n",
       "</tbody>\n",
       "</table>\n"
      ],
      "text/latex": [
       "\\begin{tabular}{r|lll}\n",
       " Accuracy & Kappa & Resample\\\\\n",
       "\\hline\n",
       "\t 1.00   & 1.0    & Fold01\\\\\n",
       "\t 0.95   & 0.9    & Fold02\\\\\n",
       "\t 1.00   & 1.0    & Fold03\\\\\n",
       "\t 1.00   & 1.0    & Fold04\\\\\n",
       "\t 1.00   & 1.0    & Fold05\\\\\n",
       "\t 0.95   & 0.9    & Fold06\\\\\n",
       "\t 1.00   & 1.0    & Fold07\\\\\n",
       "\t 1.00   & 1.0    & Fold08\\\\\n",
       "\t 0.95   & 0.9    & Fold09\\\\\n",
       "\t 1.00   & 1.0    & Fold10\\\\\n",
       "\\end{tabular}\n"
      ],
      "text/markdown": [
       "\n",
       "| Accuracy | Kappa | Resample |\n",
       "|---|---|---|\n",
       "| 1.00   | 1.0    | Fold01 |\n",
       "| 0.95   | 0.9    | Fold02 |\n",
       "| 1.00   | 1.0    | Fold03 |\n",
       "| 1.00   | 1.0    | Fold04 |\n",
       "| 1.00   | 1.0    | Fold05 |\n",
       "| 0.95   | 0.9    | Fold06 |\n",
       "| 1.00   | 1.0    | Fold07 |\n",
       "| 1.00   | 1.0    | Fold08 |\n",
       "| 0.95   | 0.9    | Fold09 |\n",
       "| 1.00   | 1.0    | Fold10 |\n",
       "\n"
      ],
      "text/plain": [
       "   Accuracy Kappa Resample\n",
       "1  1.00     1.0   Fold01  \n",
       "2  0.95     0.9   Fold02  \n",
       "3  1.00     1.0   Fold03  \n",
       "4  1.00     1.0   Fold04  \n",
       "5  1.00     1.0   Fold05  \n",
       "6  0.95     0.9   Fold06  \n",
       "7  1.00     1.0   Fold07  \n",
       "8  1.00     1.0   Fold08  \n",
       "9  0.95     0.9   Fold09  \n",
       "10 1.00     1.0   Fold10  "
      ]
     },
     "metadata": {},
     "output_type": "display_data"
    }
   ],
   "source": [
    "logistic$resample"
   ]
  },
  {
   "cell_type": "markdown",
   "id": "daily-basin",
   "metadata": {},
   "source": [
    "Our logistic model is also very accurate, but less so than the LDA model. It has worse performance on folds 2, 6, and 9. However, it does manange to be more accurate than LDA on Fold 8."
   ]
  },
  {
   "cell_type": "markdown",
   "id": "framed-lawyer",
   "metadata": {},
   "source": [
    "### Factor Analysis"
   ]
  },
  {
   "cell_type": "markdown",
   "id": "sunrise-banner",
   "metadata": {},
   "source": [
    "We have a $p$-dimensional random variable \n",
    "$\n",
    "\\underline{x} = {[ x_1, \\ldots, x_p]}^{\\prime},\n",
    "$\n",
    "with population mean vector ${\\mathbf E} [ \\underline{x}] = \\underline{\\mu}$.\n",
    "- Consider $m$ unobservable common factors \n",
    "$\n",
    "\\underline{f} = {[ f_1, \\ldots, f_m]}^{\\prime},\n",
    "$\n",
    "where $f_j$ denotes the $j$th common factor ($j = 1, \\ldots, m$).\n",
    "- Generally, $m$ is substantially smaller than $p$.\n",
    "\n",
    "### Model\n",
    "\n",
    "- A series of multiple linear regressions, predicting each of the observable variables $x_j$ from the values of the unobservable common factors $\\underline{f}$:\n",
    "\\begin{align*}\n",
    " x_1 & = \\mu_1 + \\ell_{11} f_1 + \\ell_{12} f_2 + \\ldots + \\ell_{1m} f_m + \\epsilon_1 \\\\\n",
    " x_2 & = \\mu_2 + \\ell_{21} f_1 + \\ell_{22} f_2 + \\ldots + \\ell_{2m} f_m + \\epsilon_2 \\\\\n",
    "  & \\vdots \\\\\n",
    " x_p & = \\mu_p + \\ell_{p1} f_1 + \\ell_{p2} f_2 + \\ldots + \\ell_{pm} f_m + \\epsilon_p. \\\\\n",
    "\\end{align*}\n",
    "- $\\underline{x}$ is the only observable data in a factor model.\n",
    "\n",
    "\n",
    "### Factor Loadings and Error Vector\n",
    "\n",
    "- The regression coefficient $\\ell_{jk}$ is called the loading of the $j$th variable on $k$th factor.\n",
    "- Collecting the regression coefficients for all the multiple regressions yields a matrix of factor loadings.\n",
    "\n",
    "\n",
    "- ${\\mathbf L}$ is called the *factor loading matrix*.\n",
    "\n",
    "- The factor model can be summarized in a relatively simple matrix format:\n",
    "$\n",
    "  \\underline{x}= \\underline{\\mu} + {\\mathbf L} \\, \\underline{f} + \\underline{\\epsilon}.\n",
    "$\n",
    "\n",
    " \n",
    "### Flexibility in Factor Model\n",
    "\n",
    "- The factor model is a very flexible model, as it holds for any $\\underline{\\mu}$, ${\\mathbf L}$, $\\underline{f}$, and $\\underline{\\epsilon}$ that satisfy the linear form\n",
    "$\\underline{x}= \\underline{\\mu} + {\\mathbf L} \\, \\underline{f} + \\underline{\\epsilon}.$\n",
    "- However, $\\underline{\\mu}$, ${\\mathbf L}$, $\\underline{f}$, and $\\underline{\\epsilon}$ \n",
    "are all unobservable to us. This will cause some issues, as the choice of these components are not unique.\n",
    "- Mean vector:\n",
    "$\\begin{align*}\n",
    "  {\\mathbb E}  [ \\underline{x}] & = \\underline{\\mu} + \n",
    "  {\\mathbf L} \\,  {\\mathbb E} [\\underline{f}] +  {\\mathbb E} [\\underline{\\epsilon}] \\\\\n",
    "  & = \\left( \\underline{\\mu} + {\\mathbf L} \\, \\underline{\\delta} \\right)  +\n",
    "  {\\mathbf L} \\,  {\\mathbb E} [\\underline{f} - \\underline{\\delta}] \n",
    "  +  {\\mathbb E} [\\underline{\\epsilon}] \n",
    "\\end{align*}  $\n",
    "- Variance-covariance matrix: if $\\underline{f}$ and $\\underline{\\epsilon}$ are uncorrelated with each other,\n",
    "$\\begin{align*}\n",
    "  \\mbox{Cov}   [ \\underline{x}] & =  \n",
    "  {\\mathbf L} \\, \\mbox{Cov} [\\underline{f}] \\,  {\\mathbf L}^{\\prime} \n",
    "   +   \\mbox{Cov}   [\\underline{\\epsilon}] \\\\\n",
    "   & =   \\left( c {\\mathbf L} \\right) \\, \\mbox{Cov} [\\underline{f}/c] \\,  \n",
    "    { \\left( c {\\mathbf L} \\right) }^{\\prime}    +   \\mbox{Cov}   [\\underline{\\epsilon}]\n",
    "\\end{align*}$\n"
   ]
  },
  {
   "cell_type": "code",
   "execution_count": 88,
   "id": "dried-melbourne",
   "metadata": {},
   "outputs": [
    {
     "data": {
      "image/png": "[encoded data removed]",
      "text/plain": [
       "plot without title"
      ]
     },
     "metadata": {},
     "output_type": "display_data"
    }
   ],
   "source": [
    "cor_df <- cor(notes)\n",
    "\n",
    "# Function to generate correlation plot\n",
    "panel.corrgram <- function(x, y, z, subscripts, at, level = 0.9, label = FALSE, ...) {\n",
    "     require(\"ellipse\", quietly = TRUE)\n",
    "     x <- as.numeric(x)[subscripts]\n",
    "     y <- as.numeric(y)[subscripts]\n",
    "     z <- as.numeric(z)[subscripts]\n",
    "     zcol <- level.colors(z, at = at,  ...)\n",
    "     for (i in seq(along = z)) {\n",
    "         ell=ellipse(z[i], level = level, npoints = 50, \n",
    "                     scale = c(.2, .2), centre = c(x[i], y[i]))\n",
    "         panel.polygon(ell, col = zcol[i], border = zcol[i], ...)\n",
    "     }\n",
    "     if (label)\n",
    "         panel.text(x = x, y = y, lab = 100 * round(z, 2), cex = 0.8,\n",
    "                    col = ifelse(z < 0, \"white\", \"black\"))\n",
    " }\n",
    "\n",
    "# generate correlation plot\n",
    "print(levelplot(cor_df[seq(6,1), seq(6,1)], at = do.breaks(c(-1.01, 1.01), 20),\n",
    "           xlab = NULL, ylab = NULL, colorkey = list(space = \"top\"), col.regions=rev(heat.colors(100)),\n",
    "           scales = list(x = list(rot = 90)),\n",
    "           panel = panel.corrgram, label = TRUE))"
   ]
  },
  {
   "cell_type": "markdown",
   "id": "confidential-greeting",
   "metadata": {},
   "source": [
    "We can see that measurements such as left and right seem to be highly correlated. Perhaps these can be represented in one factor."
   ]
  },
  {
   "cell_type": "code",
   "execution_count": 89,
   "id": "fancy-shirt",
   "metadata": {},
   "outputs": [
    {
     "data": {
      "image/png": "[encoded data removed]",
      "text/plain": [
       "plot without title"
      ]
     },
     "metadata": {},
     "output_type": "display_data"
    }
   ],
   "source": [
    "# Generate scree plot\n",
    "pca_result <- prcomp (notes, scale =TRUE)\n",
    "eigen_val <- pca_result$sdev^2\n",
    "pve <- eigen_val/sum(eigen_val)\n",
    "\n",
    "plot(eigen_val  , xlab=\" Principal Component \", ylab=\" Eigenvalue \", \n",
    "     ylim=c(0,3), xaxt=\"n\" ,type='b', col=\"red\", cex=2,\n",
    "pch=20, cex.lab=1.5)\n",
    "axis(1, at=c(1,2,3,4,5,6),labels=c(1,2,3,4,5,6))"
   ]
  },
  {
   "cell_type": "code",
   "execution_count": 90,
   "id": "industrial-professional",
   "metadata": {},
   "outputs": [
    {
     "data": {
      "image/png": "[encoded data removed]",
      "text/plain": [
       "plot without title"
      ]
     },
     "metadata": {},
     "output_type": "display_data"
    }
   ],
   "source": [
    "# Cumulative Proportion plot\n",
    "plot(cumsum(pve), xlab=\" Principal Component \", \n",
    "  ylab =\"Cumulative Proportion of Variance Explained \", \n",
    "  ylim=c(0.4,1) , xaxt=\"n\",type='b', col=\"blue\", cex=2, pch=20, cex.lab=1.5)\n",
    "axis(1, at=c(1,2,3,4,5,6),labels=c(1,2,3,4,5,6))"
   ]
  },
  {
   "cell_type": "markdown",
   "id": "bored-carnival",
   "metadata": {},
   "source": [
    "$m=3$ seems like a good choice here as almost 90% of the cumulative variance is explained and we still see our dimensionality reduced in half."
   ]
  },
  {
   "cell_type": "code",
   "execution_count": 91,
   "id": "moved-london",
   "metadata": {},
   "outputs": [
    {
     "data": {
      "text/html": [
       "<table>\n",
       "<thead><tr><th></th><th scope=col>Length</th><th scope=col>Left</th><th scope=col>Right</th><th scope=col>Bottom</th><th scope=col>Top</th><th scope=col>Diagonal</th></tr></thead>\n",
       "<tbody>\n",
       "\t<tr><th scope=row>Factor1</th><td>-0.1798542  </td><td>0.3509698   </td><td>0.4266324   </td><td>0.98730708  </td><td>0.03239197  </td><td>-0.523363912</td></tr>\n",
       "\t<tr><th scope=row>Factor2</th><td>-0.1316173  </td><td>0.4103754   </td><td>0.4058786   </td><td>0.14161289  </td><td>0.76908314  </td><td>-0.749832691</td></tr>\n",
       "\t<tr><th scope=row>Factor3</th><td> 0.4840111  </td><td>0.7096473   </td><td>0.6014242   </td><td>0.01307913  </td><td>0.07635236  </td><td>-0.004236968</td></tr>\n",
       "</tbody>\n",
       "</table>\n"
      ],
      "text/latex": [
       "\\begin{tabular}{r|llllll}\n",
       "  & Length & Left & Right & Bottom & Top & Diagonal\\\\\n",
       "\\hline\n",
       "\tFactor1 & -0.1798542   & 0.3509698    & 0.4266324    & 0.98730708   & 0.03239197   & -0.523363912\\\\\n",
       "\tFactor2 & -0.1316173   & 0.4103754    & 0.4058786    & 0.14161289   & 0.76908314   & -0.749832691\\\\\n",
       "\tFactor3 &  0.4840111   & 0.7096473    & 0.6014242    & 0.01307913   & 0.07635236   & -0.004236968\\\\\n",
       "\\end{tabular}\n"
      ],
      "text/markdown": [
       "\n",
       "| <!--/--> | Length | Left | Right | Bottom | Top | Diagonal |\n",
       "|---|---|---|---|---|---|---|\n",
       "| Factor1 | -0.1798542   | 0.3509698    | 0.4266324    | 0.98730708   | 0.03239197   | -0.523363912 |\n",
       "| Factor2 | -0.1316173   | 0.4103754    | 0.4058786    | 0.14161289   | 0.76908314   | -0.749832691 |\n",
       "| Factor3 |  0.4840111   | 0.7096473    | 0.6014242    | 0.01307913   | 0.07635236   | -0.004236968 |\n",
       "\n"
      ],
      "text/plain": [
       "        Length     Left      Right     Bottom     Top        Diagonal    \n",
       "Factor1 -0.1798542 0.3509698 0.4266324 0.98730708 0.03239197 -0.523363912\n",
       "Factor2 -0.1316173 0.4103754 0.4058786 0.14161289 0.76908314 -0.749832691\n",
       "Factor3  0.4840111 0.7096473 0.6014242 0.01307913 0.07635236 -0.004236968"
      ]
     },
     "metadata": {},
     "output_type": "display_data"
    }
   ],
   "source": [
    "# Set the number of factors as 3\n",
    "n.factors <- 3\n",
    "\n",
    "# Fit factor model (in base R)\n",
    "# The n.factors denotes how many factors used in fitting\n",
    "# The scores option denotes how the factor scores are calcualted\n",
    "# The rotation option denotes what rotation matrix is used\n",
    "fa_fit <- factanal(notes, n.factors, rotation=\"varimax\")\n",
    "\n",
    "# Factor loadings\n",
    "loading <- fa_fit$loadings[,1:3]\n",
    "t(loading)"
   ]
  },
  {
   "cell_type": "code",
   "execution_count": 107,
   "id": "auburn-baker",
   "metadata": {},
   "outputs": [
    {
     "data": {
      "image/png": "[encoded data removed]",
      "text/plain": [
       "plot without title"
      ]
     },
     "metadata": {},
     "output_type": "display_data"
    }
   ],
   "source": [
    "scatterplot3d(loading) # set up plot\n",
    "text(scatterplot3d(loading)$xyz.convert(loading), labels = names(notes),\n",
    "    cex= 0.7, col = \"steelblue\")"
   ]
  },
  {
   "cell_type": "markdown",
   "id": "serious-thumb",
   "metadata": {},
   "source": [
    "Factor 1 is mainly loaded on Left, Right, and Bottom. 2 involves Top, Left, and Right, while 3 is Left and Right."
   ]
  },
  {
   "cell_type": "code",
   "execution_count": 217,
   "id": "realistic-patrol",
   "metadata": {
    "scrolled": true
   },
   "outputs": [],
   "source": [
    "projected = data.frame(apply(notes, 1, function(x) dot(x, loading[1:6])))\n",
    "projected = cbind(projected, data.frame(apply(notes, 1, function(x) dot(x, loading[7:12]))))\n",
    "projected = cbind(projected, data.frame(apply(notes, 1, function(x) dot(x, loading[13:18]))))\n",
    "colnames(projected) = colnames(loading)"
   ]
  },
  {
   "cell_type": "code",
   "execution_count": 218,
   "id": "periodic-swiss",
   "metadata": {},
   "outputs": [
    {
     "data": {
      "text/html": [
       "<table>\n",
       "<thead><tr><th></th><th scope=col>Factor1</th><th scope=col>Factor2</th><th scope=col>Factor3</th></tr></thead>\n",
       "<tbody>\n",
       "\t<tr><th scope=row>BN1</th><td>-1.318471</td><td>-18.29334</td><td>276.0370 </td></tr>\n",
       "\t<tr><th scope=row>BN2</th><td>-3.597455</td><td>-20.17488</td><td>274.1457 </td></tr>\n",
       "\t<tr><th scope=row>BN3</th><td>-3.299485</td><td>-20.41425</td><td>274.2558 </td></tr>\n",
       "\t<tr><th scope=row>BN4</th><td>-4.396330</td><td>-19.85954</td><td>274.2419 </td></tr>\n",
       "\t<tr><th scope=row>BN5</th><td>-1.544330</td><td>-21.40219</td><td>274.1605 </td></tr>\n",
       "\t<tr><th scope=row>BN6</th><td>-2.002902</td><td>-18.72969</td><td>275.9987 </td></tr>\n",
       "</tbody>\n",
       "</table>\n"
      ],
      "text/latex": [
       "\\begin{tabular}{r|lll}\n",
       "  & Factor1 & Factor2 & Factor3\\\\\n",
       "\\hline\n",
       "\tBN1 & -1.318471 & -18.29334 & 276.0370 \\\\\n",
       "\tBN2 & -3.597455 & -20.17488 & 274.1457 \\\\\n",
       "\tBN3 & -3.299485 & -20.41425 & 274.2558 \\\\\n",
       "\tBN4 & -4.396330 & -19.85954 & 274.2419 \\\\\n",
       "\tBN5 & -1.544330 & -21.40219 & 274.1605 \\\\\n",
       "\tBN6 & -2.002902 & -18.72969 & 275.9987 \\\\\n",
       "\\end{tabular}\n"
      ],
      "text/markdown": [
       "\n",
       "| <!--/--> | Factor1 | Factor2 | Factor3 |\n",
       "|---|---|---|---|\n",
       "| BN1 | -1.318471 | -18.29334 | 276.0370  |\n",
       "| BN2 | -3.597455 | -20.17488 | 274.1457  |\n",
       "| BN3 | -3.299485 | -20.41425 | 274.2558  |\n",
       "| BN4 | -4.396330 | -19.85954 | 274.2419  |\n",
       "| BN5 | -1.544330 | -21.40219 | 274.1605  |\n",
       "| BN6 | -2.002902 | -18.72969 | 275.9987  |\n",
       "\n"
      ],
      "text/plain": [
       "    Factor1   Factor2   Factor3 \n",
       "BN1 -1.318471 -18.29334 276.0370\n",
       "BN2 -3.597455 -20.17488 274.1457\n",
       "BN3 -3.299485 -20.41425 274.2558\n",
       "BN4 -4.396330 -19.85954 274.2419\n",
       "BN5 -1.544330 -21.40219 274.1605\n",
       "BN6 -2.002902 -18.72969 275.9987"
      ]
     },
     "metadata": {},
     "output_type": "display_data"
    }
   ],
   "source": [
    "head(projected)"
   ]
  },
  {
   "cell_type": "code",
   "execution_count": 219,
   "id": "unlimited-congress",
   "metadata": {},
   "outputs": [],
   "source": [
    "factor_lda <- train(projected, as.factor(labeled$'genuine'), method = \"lda\",\n",
    "               trControl = train.control)"
   ]
  },
  {
   "cell_type": "code",
   "execution_count": 249,
   "id": "round-upgrade",
   "metadata": {},
   "outputs": [
    {
     "data": {
      "text/html": [
       "<table>\n",
       "<thead><tr><th scope=col>Accuracy</th><th scope=col>Kappa</th><th scope=col>Resample</th></tr></thead>\n",
       "<tbody>\n",
       "\t<tr><td>1.00  </td><td>1.0   </td><td>Fold01</td></tr>\n",
       "\t<tr><td>1.00  </td><td>1.0   </td><td>Fold02</td></tr>\n",
       "\t<tr><td>1.00  </td><td>1.0   </td><td>Fold03</td></tr>\n",
       "\t<tr><td>1.00  </td><td>1.0   </td><td>Fold04</td></tr>\n",
       "\t<tr><td>1.00  </td><td>1.0   </td><td>Fold05</td></tr>\n",
       "\t<tr><td>1.00  </td><td>1.0   </td><td>Fold06</td></tr>\n",
       "\t<tr><td>0.95  </td><td>0.9   </td><td>Fold07</td></tr>\n",
       "\t<tr><td>1.00  </td><td>1.0   </td><td>Fold08</td></tr>\n",
       "\t<tr><td>1.00  </td><td>1.0   </td><td>Fold09</td></tr>\n",
       "\t<tr><td>1.00  </td><td>1.0   </td><td>Fold10</td></tr>\n",
       "</tbody>\n",
       "</table>\n"
      ],
      "text/latex": [
       "\\begin{tabular}{r|lll}\n",
       " Accuracy & Kappa & Resample\\\\\n",
       "\\hline\n",
       "\t 1.00   & 1.0    & Fold01\\\\\n",
       "\t 1.00   & 1.0    & Fold02\\\\\n",
       "\t 1.00   & 1.0    & Fold03\\\\\n",
       "\t 1.00   & 1.0    & Fold04\\\\\n",
       "\t 1.00   & 1.0    & Fold05\\\\\n",
       "\t 1.00   & 1.0    & Fold06\\\\\n",
       "\t 0.95   & 0.9    & Fold07\\\\\n",
       "\t 1.00   & 1.0    & Fold08\\\\\n",
       "\t 1.00   & 1.0    & Fold09\\\\\n",
       "\t 1.00   & 1.0    & Fold10\\\\\n",
       "\\end{tabular}\n"
      ],
      "text/markdown": [
       "\n",
       "| Accuracy | Kappa | Resample |\n",
       "|---|---|---|\n",
       "| 1.00   | 1.0    | Fold01 |\n",
       "| 1.00   | 1.0    | Fold02 |\n",
       "| 1.00   | 1.0    | Fold03 |\n",
       "| 1.00   | 1.0    | Fold04 |\n",
       "| 1.00   | 1.0    | Fold05 |\n",
       "| 1.00   | 1.0    | Fold06 |\n",
       "| 0.95   | 0.9    | Fold07 |\n",
       "| 1.00   | 1.0    | Fold08 |\n",
       "| 1.00   | 1.0    | Fold09 |\n",
       "| 1.00   | 1.0    | Fold10 |\n",
       "\n"
      ],
      "text/plain": [
       "   Accuracy Kappa Resample\n",
       "1  1.00     1.0   Fold01  \n",
       "2  1.00     1.0   Fold02  \n",
       "3  1.00     1.0   Fold03  \n",
       "4  1.00     1.0   Fold04  \n",
       "5  1.00     1.0   Fold05  \n",
       "6  1.00     1.0   Fold06  \n",
       "7  0.95     0.9   Fold07  \n",
       "8  1.00     1.0   Fold08  \n",
       "9  1.00     1.0   Fold09  \n",
       "10 1.00     1.0   Fold10  "
      ]
     },
     "metadata": {},
     "output_type": "display_data"
    }
   ],
   "source": [
    "factor_lda$resample"
   ]
  },
  {
   "cell_type": "markdown",
   "id": "rational-webmaster",
   "metadata": {},
   "source": [
    "We have identical performance to our original LDA model, albeit with a different fold having 95% accuracy."
   ]
  },
  {
   "cell_type": "code",
   "execution_count": null,
   "id": "intensive-queen",
   "metadata": {},
   "outputs": [],
   "source": [
    "factor_logistic <- train(projected, as.factor(labeled$'genuine'), method = \"glm\",\n",
    "               family=\"binomial\",maxit=100, trControl = train.control)"
   ]
  },
  {
   "cell_type": "code",
   "execution_count": 224,
   "id": "durable-shame",
   "metadata": {},
   "outputs": [
    {
     "data": {
      "text/html": [
       "<table>\n",
       "<thead><tr><th scope=col>Accuracy</th><th scope=col>Kappa</th><th scope=col>Resample</th></tr></thead>\n",
       "<tbody>\n",
       "\t<tr><td>1.00  </td><td>1.0   </td><td>Fold01</td></tr>\n",
       "\t<tr><td>0.95  </td><td>0.9   </td><td>Fold02</td></tr>\n",
       "\t<tr><td>1.00  </td><td>1.0   </td><td>Fold03</td></tr>\n",
       "\t<tr><td>1.00  </td><td>1.0   </td><td>Fold04</td></tr>\n",
       "\t<tr><td>1.00  </td><td>1.0   </td><td>Fold05</td></tr>\n",
       "\t<tr><td>1.00  </td><td>1.0   </td><td>Fold06</td></tr>\n",
       "\t<tr><td>1.00  </td><td>1.0   </td><td>Fold07</td></tr>\n",
       "\t<tr><td>1.00  </td><td>1.0   </td><td>Fold08</td></tr>\n",
       "\t<tr><td>1.00  </td><td>1.0   </td><td>Fold09</td></tr>\n",
       "\t<tr><td>1.00  </td><td>1.0   </td><td>Fold10</td></tr>\n",
       "</tbody>\n",
       "</table>\n"
      ],
      "text/latex": [
       "\\begin{tabular}{r|lll}\n",
       " Accuracy & Kappa & Resample\\\\\n",
       "\\hline\n",
       "\t 1.00   & 1.0    & Fold01\\\\\n",
       "\t 0.95   & 0.9    & Fold02\\\\\n",
       "\t 1.00   & 1.0    & Fold03\\\\\n",
       "\t 1.00   & 1.0    & Fold04\\\\\n",
       "\t 1.00   & 1.0    & Fold05\\\\\n",
       "\t 1.00   & 1.0    & Fold06\\\\\n",
       "\t 1.00   & 1.0    & Fold07\\\\\n",
       "\t 1.00   & 1.0    & Fold08\\\\\n",
       "\t 1.00   & 1.0    & Fold09\\\\\n",
       "\t 1.00   & 1.0    & Fold10\\\\\n",
       "\\end{tabular}\n"
      ],
      "text/markdown": [
       "\n",
       "| Accuracy | Kappa | Resample |\n",
       "|---|---|---|\n",
       "| 1.00   | 1.0    | Fold01 |\n",
       "| 0.95   | 0.9    | Fold02 |\n",
       "| 1.00   | 1.0    | Fold03 |\n",
       "| 1.00   | 1.0    | Fold04 |\n",
       "| 1.00   | 1.0    | Fold05 |\n",
       "| 1.00   | 1.0    | Fold06 |\n",
       "| 1.00   | 1.0    | Fold07 |\n",
       "| 1.00   | 1.0    | Fold08 |\n",
       "| 1.00   | 1.0    | Fold09 |\n",
       "| 1.00   | 1.0    | Fold10 |\n",
       "\n"
      ],
      "text/plain": [
       "   Accuracy Kappa Resample\n",
       "1  1.00     1.0   Fold01  \n",
       "2  0.95     0.9   Fold02  \n",
       "3  1.00     1.0   Fold03  \n",
       "4  1.00     1.0   Fold04  \n",
       "5  1.00     1.0   Fold05  \n",
       "6  1.00     1.0   Fold06  \n",
       "7  1.00     1.0   Fold07  \n",
       "8  1.00     1.0   Fold08  \n",
       "9  1.00     1.0   Fold09  \n",
       "10 1.00     1.0   Fold10  "
      ]
     },
     "metadata": {},
     "output_type": "display_data"
    }
   ],
   "source": [
    "factor_logistic$resample"
   ]
  },
  {
   "cell_type": "markdown",
   "id": "adaptive-april",
   "metadata": {},
   "source": [
    "Our new logistic model is markedly improved and is now on par with our LDA models."
   ]
  },
  {
   "cell_type": "markdown",
   "id": "global-wednesday",
   "metadata": {},
   "source": [
    "## Model Assumptions\n",
    "\n",
    "- We make the following model assumptions for factor analysis. \n",
    "- Assumptions on mean vector:\n",
    "\n",
    "1. The common factors all have mean zero:\n",
    "$\n",
    " {\\mathbb E} [ \\underline{f} ] = 0.\n",
    "$\n",
    "\n",
    "2. The specific factors (or random errors) all have mean zero:\n",
    "$\n",
    " {\\mathbb E} [ \\underline{\\epsilon} ] = 0.\n",
    "$\n",
    "\n",
    "We will assume these hold true for the purpose of performing factor analysis as the mean must neccessarily be zero, as subtracting from the factors would produce an invalid result since the mean would no longer be zero.\n",
    "\n",
    "- Assumptions on variance-covariance matrix:\n",
    "\n",
    "1. Common factors satisfy:\n",
    "$\n",
    " \\mbox{Cov} [ \\underline{f} ] = I_m,\n",
    " $\n",
    " where $I_m$ is an $m \\times m$-dimensional identity matrix.\n",
    " \n",
    " We assume this holds as a fixed covariance matrix makes re-scaling impossible.\n",
    " \n",
    "2. Random errors satisfy:\n",
    "$\n",
    " \\mbox{Cov} [ \\underline{\\epsilon} ] = {\\mathbf \\Psi} = \\mbox{diag} (\\psi_1, \\ldots, \\psi_p).\n",
    " $\n",
    " \n",
    " This follows if $\\epsilon$'s covariance matrix is diagonal, then the off-diagonal entries (the cross covariances) are zero. Then there are no correlations.\n",
    " \n",
    "3. Common factors and random errors are uncorrelated:\n",
    "$\n",
    " \\mbox{Cov} [ \\underline{f}, \\underline{\\epsilon} ] = 0.\n",
    " $\n",
    " \n",
    " This follows from the prior explanation.\n",
    " \n",
    "- With the assumptions imposed on the mean vector, we can avoid the flexibility issue of the\n",
    "mean vector. The mean vector is now fully explained by the intercept:\n",
    "$\n",
    "  {\\mathbb E}  [ \\underline{x}]  = \\underline{\\mu} + \n",
    "  {\\mathbf L} \\,  {\\mathbb E} [\\underline{f}] +  {\\mathbb E} [\\underline{\\epsilon}] \n",
    "  = \\underline{\\mu}.\n",
    "$\n",
    "- With the assumptions imposed on the variance-covariance matrix, we can avoid the flexibility issue of ${\\mathbf \\Sigma}$:\n",
    "$\n",
    " \\mbox{Cov} [ \\underline{x}] = \n",
    " {\\mathbf L} \\, \\mbox{Cov} [\\underline{f}] \\,  {\\mathbf L}^{\\prime} \n",
    "   +   \\mbox{Cov}   [\\underline{\\epsilon}] = \n",
    "   {\\mathbf L} \\,  {\\mathbf L}^{\\prime}    +  {\\mathbf \\Psi}.\n",
    "$\n",
    " This is the matrix of factor loadings times its transpose, plus a diagonal matrix containing the specific variances."
   ]
  },
  {
   "cell_type": "markdown",
   "id": "published-monaco",
   "metadata": {},
   "source": [
    "The factor analysis was overall beneficial as we were able to maintain the same accuracy in our LDA classifier with half the features. In the case of the logistic classifier, we actually improved our accuracy from .985 to .995 with the factor model."
   ]
  },
  {
   "cell_type": "code",
   "execution_count": 84,
   "id": "fantastic-advocacy",
   "metadata": {
    "scrolled": false
   },
   "outputs": [
    {
     "name": "stdout",
     "output_type": "stream",
     "text": [
      "Linear Discriminant Analysis \n",
      "\n",
      "200 samples\n",
      "  6 predictor\n",
      "  2 classes: 'counterfeit', 'genuine' \n",
      "\n",
      "No pre-processing\n",
      "Resampling: Cross-Validated (10 fold) \n",
      "Summary of sample sizes: 180, 180, 180, 180, 180, 180, ... \n",
      "Resampling results:\n",
      "\n",
      "  Accuracy  Kappa\n",
      "  0.995     0.99 \n",
      "\n"
     ]
    }
   ],
   "source": [
    "print(lda)"
   ]
  },
  {
   "cell_type": "code",
   "execution_count": 87,
   "id": "earned-payroll",
   "metadata": {
    "scrolled": true
   },
   "outputs": [
    {
     "name": "stdout",
     "output_type": "stream",
     "text": [
      "Generalized Linear Model \n",
      "\n",
      "200 samples\n",
      "  6 predictor\n",
      "  2 classes: 'counterfeit', 'genuine' \n",
      "\n",
      "No pre-processing\n",
      "Resampling: Cross-Validated (10 fold) \n",
      "Summary of sample sizes: 180, 180, 180, 180, 180, 180, ... \n",
      "Resampling results:\n",
      "\n",
      "  Accuracy  Kappa\n",
      "  0.985     0.97 \n",
      "\n"
     ]
    }
   ],
   "source": [
    "print(logistic)"
   ]
  },
  {
   "cell_type": "code",
   "execution_count": 221,
   "id": "colored-pennsylvania",
   "metadata": {},
   "outputs": [
    {
     "name": "stdout",
     "output_type": "stream",
     "text": [
      "Linear Discriminant Analysis \n",
      "\n",
      "200 samples\n",
      "  3 predictor\n",
      "  2 classes: 'counterfeit', 'genuine' \n",
      "\n",
      "No pre-processing\n",
      "Resampling: Cross-Validated (10 fold) \n",
      "Summary of sample sizes: 180, 180, 180, 180, 180, 180, ... \n",
      "Resampling results:\n",
      "\n",
      "  Accuracy  Kappa\n",
      "  0.995     0.99 \n",
      "\n"
     ]
    }
   ],
   "source": [
    "print(factor_lda)"
   ]
  },
  {
   "cell_type": "code",
   "execution_count": 225,
   "id": "interracial-bonus",
   "metadata": {},
   "outputs": [
    {
     "name": "stdout",
     "output_type": "stream",
     "text": [
      "Generalized Linear Model \n",
      "\n",
      "200 samples\n",
      "  3 predictor\n",
      "  2 classes: 'counterfeit', 'genuine' \n",
      "\n",
      "No pre-processing\n",
      "Resampling: Cross-Validated (10 fold) \n",
      "Summary of sample sizes: 180, 180, 180, 180, 180, 180, ... \n",
      "Resampling results:\n",
      "\n",
      "  Accuracy  Kappa\n",
      "  0.995     0.99 \n",
      "\n"
     ]
    }
   ],
   "source": [
    "print(factor_logistic)"
   ]
  },
  {
   "cell_type": "markdown",
   "id": "painful-faith",
   "metadata": {},
   "source": [
    "## Conclusion"
   ]
  },
  {
   "cell_type": "markdown",
   "id": "grave-terrace",
   "metadata": {},
   "source": [
    "The LDA model is the best with no dimension reduction, with overall 99.5% accuracy. The logistic model falters on some folds (previously mentioned) and so has a lower 98.5% accuracy. With factor analysis, however, we reduced our dimensions in half to 3 and this actually increased the logistic model's accuracy to be on par with LDA. We saw that there was a significant difference in the counterfeit and genuine bills as all of our classifiers had very high accuracy. However, the effecctiveness of the model may be limited due to our small dataset. The factor analysis proved beneficial as it made our model less complex. Overall, the LDA and both models with factor analysis were the best, while the regular logistic model was slightly worse."
   ]
  }
 ],
 "metadata": {
  "kernelspec": {
   "display_name": "R",
   "language": "R",
   "name": "ir"
  },
  "language_info": {
   "codemirror_mode": "r",
   "file_extension": ".r",
   "mimetype": "text/x-r-source",
   "name": "R",
   "pygments_lexer": "r",
   "version": "3.6.1"
  }
 },
 "nbformat": 4,
 "nbformat_minor": 5
}
